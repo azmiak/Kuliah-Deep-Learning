{
  "nbformat": 4,
  "nbformat_minor": 0,
  "metadata": {
    "colab": {
      "provenance": [],
      "gpuType": "T4"
    },
    "kernelspec": {
      "name": "python3",
      "display_name": "Python 3"
    },
    "language_info": {
      "name": "python"
    },
    "accelerator": "GPU"
  },
  "cells": [
    {
      "cell_type": "markdown",
      "source": [
        "# Chapter 1: The Machine Learning Landscape\n",
        "\n",
        "This notebook memberikan penjelasan teoritis yang lebih mendalam untuk Bab 1, dilengkapi dengan sedikit kode ilustrasi.\n",
        "\n",
        "---\n",
        "\n",
        "## 1. Definisi Formal\n",
        "\n",
        "**Machine Learning** (ML) secara formal dapat didefinisikan menurut Mitchell (1997):\n",
        "\n",
        "“A computer program is said to learn from experience (E) with respect to some task (T) and some performance measure (P), if its performance on (T), as measured by (P), improves with experience (E).”\n",
        "\n",
        "- **_E_ (Experience):** dataset atau interaksi yang digunakan untuk belajar.  \n",
        "- **_T_ (Task):** jenis masalah—misal klasifikasi, regresi, clustering, dll.  \n",
        "- **_P_ (Performance):** metrik evaluasi—misal akurasi, RMSE, precision/recall, reward, dll.  \n",
        "\n",
        "---\n",
        "\n",
        "## 2. Mengapa ML?\n",
        "\n",
        "1. **Kompleksitas**  \n",
        "   Banyak masalah tidak memiliki algoritma deterministik yang mudah (contoh: pengenalan suara, visi komputer).  \n",
        "2. **Adaptasi**  \n",
        "   Lingkungan yang berubah (misal spam filter) dapat menyesuaikan model tanpa penulisan ulang aturan.  \n",
        "3. **Data Mining & Insight**  \n",
        "   ML membantu menemukan pola tersembunyi dalam data berskala besar.  \n",
        "\n",
        "---\n",
        "\n",
        "## 3. Tipe-Tipe Pembelajaran\n",
        "\n",
        "### 3.1 Supervised Learning  \n",
        "– **Data berlabel** \\(x_i, y_i)\\\n",
        "– Target: belajar fungsi \\(f: X to Y\\)  \n",
        "– **Contoh tugas:**  \n",
        "  - Klasifikasi: \\(Y\\) diskrit (spam/ham, class 0/1)  \n",
        "  - Regresi: \\(Y\\) kontinu (prediksi harga, suhu)  \n",
        "\n",
        "### 3.2 Unsupervised Learning  \n",
        "– **Data tak berlabel** (x_i)  \n",
        "– Target: menemukan struktur atau distribusi  \n",
        "– **Contoh tugas:** clustering, dimensionality reduction, anomaly detection  \n",
        "\n",
        "### 3.3 Semisupervised Learning  \n",
        "– Kombinasi: sebagian data berlabel, sebagian tidak  \n",
        "– Mengurangi kebutuhan label manusia yang mahal  \n",
        "\n",
        "### 3.4 Reinforcement Learning  \n",
        "– Agen berinteraksi dengan lingkungan, menerima reward  \n",
        "– Target: belajar policy yang memaksimalkan return kumulatif  \n",
        "\n",
        "---\n",
        "\n",
        "## 4. Batch vs Online Learning\n",
        "\n",
        "- **Batch Learning**  \n",
        "  - Melatih ulang dengan seluruh dataset.  \n",
        "  - Cocok untuk data terbatas, update periodik.  \n",
        "- **Online Learning**  \n",
        "  - Update model per instance atau mini‑batch saat data baru masuk.  \n",
        "  - Lebih responsif, diperlukan di streaming atau data besar.  \n",
        "\n",
        "---\n",
        "\n",
        "## 5. Instance‑Based vs Model‑Based\n",
        "\n",
        "### 5.1 Instance‑Based  \n",
        "– Menyimpan contoh training, prediksi dengan similarity (misal k‑NN)  \n",
        "– **Kelebihan:** gampang, non‑parametrik  \n",
        "– **Kekurangan:** lambat saat inferensi, skala buruk  \n",
        "\n",
        "### 5.2 Model‑Based  \n",
        "– Membuat fungsi parametris  \n",
        "– Belajar fungsi untuk meminimalkan cost  \n",
        "– **Kelebihan:** inferensi cepat, ringkas  \n",
        "– **Kekurangan:** perlu asumsi model  \n",
        "\n",
        "---\n",
        "\n",
        "## 6. Bias–Variance Trade‑off\n",
        "\n",
        "Model selalu berusaha meminimalkan **generalization error**:\n",
        "\n",
        "- **Bias tinggi** ⇒ underfitting  \n",
        "- **Variance tinggi** ⇒ overfitting  \n",
        "- **Regularisasi** (L1, L2, early stopping) membantu menyeimbangkan.\n",
        "\n",
        "---\n",
        "\n",
        "## 7. No Free Lunch Theorem\n",
        "\n",
        "Tanpa asumsi prior, semua algoritma belajar adalah sama baik (Wolpert, 1996).  \n",
        "Artinya: tidak ada “satu model terbaik” untuk semua problem. Pilihan algoritma harus disesuaikan dengan karakteristik data dan domain.\n",
        "\n",
        "---"
      ],
      "metadata": {
        "id": "v7X5SWCwwt6L"
      }
    },
    {
      "cell_type": "markdown",
      "source": [
        "## Contoh: Prediksi Life Satisfaction Berdasarkan GDP\n",
        "\n",
        "Kita akan membangun model Machine Learning sederhana menggunakan **Linear Regression** untuk memprediksi tingkat kepuasan hidup suatu negara berdasarkan GDP per kapitanya.\n"
      ],
      "metadata": {
        "id": "FF9y4eEUw8WD"
      }
    },
    {
      "cell_type": "code",
      "execution_count": null,
      "metadata": {
        "id": "5Y-jnN-jvbZY"
      },
      "outputs": [],
      "source": [
        "# Import pustaka dasar\n",
        "import numpy as np\n",
        "import matplotlib.pyplot as plt\n",
        "import pandas as pd\n",
        "import sklearn.linear_model\n",
        "\n",
        "# Simulasi dataset negara dan GDP\n",
        "def prepare_country_stats():\n",
        "    return pd.DataFrame({\n",
        "        \"Country\": [\"Hungary\", \"Korea\", \"France\", \"Australia\", \"United States\"],\n",
        "        \"GDP per capita\": [12240, 27195, 37675, 50962, 55805],\n",
        "        \"Life satisfaction\": [4.9, 5.8, 6.5, 7.3, 7.2]\n",
        "    })\n",
        "\n",
        "# Persiapkan data\n",
        "country_stats = prepare_country_stats()\n",
        "X = np.c_[country_stats[\"GDP per capita\"]]\n",
        "y = np.c_[country_stats[\"Life satisfaction\"]]"
      ]
    },
    {
      "cell_type": "code",
      "source": [
        "# Visualisasi hubungan GDP dan life satisfaction\n",
        "country_stats.plot(kind=\"scatter\", x=\"GDP per capita\", y=\"Life satisfaction\")\n",
        "plt.title(\"GDP vs Life Satisfaction\")\n",
        "plt.grid(True)\n",
        "plt.show()"
      ],
      "metadata": {
        "colab": {
          "base_uri": "https://localhost:8080/",
          "height": 472
        },
        "id": "TOmX39aJw7BY",
        "outputId": "8dfcac9c-7fd9-4405-de9d-dfa66b6987a8"
      },
      "execution_count": null,
      "outputs": [
        {
          "output_type": "display_data",
          "data": {
            "text/plain": [
              "<Figure size 640x480 with 1 Axes>"
            ],
            "image/png": "[encoded data removed]"
          },
          "metadata": {}
        }
      ]
    },
    {
      "cell_type": "code",
      "source": [
        "# Buat dan latih model Linear Regression\n",
        "model = sklearn.linear_model.LinearRegression()\n",
        "model.fit(X, y)\n",
        "\n",
        "# Prediksi life satisfaction untuk GDP = 22587 (misal: Cyprus)\n",
        "X_new = [[22587]]\n",
        "prediction = model.predict(X_new)\n",
        "print(\"Prediksi Life Satisfaction untuk GDP 22587:\", prediction[0][0])"
      ],
      "metadata": {
        "colab": {
          "base_uri": "https://localhost:8080/"
        },
        "id": "Uvuep_TTw_7O",
        "outputId": "9fc43f1b-cf11-45d5-d3a7-420610b64843"
      },
      "execution_count": null,
      "outputs": [
        {
          "output_type": "stream",
          "name": "stdout",
          "text": [
            "Prediksi Life Satisfaction untuk GDP 22587: 5.543341487343023\n"
          ]
        }
      ]
    },
    {
      "cell_type": "markdown",
      "source": [
        "## Kesimpulan\n",
        "\n",
        "- **Machine Learning** memungkinkan sistem belajar dari data untuk menyelesaikan masalah kompleks seperti klasifikasi, prediksi, atau deteksi anomali.\n",
        "- Kita menggunakan model regresi linear sebagai contoh model berbasis data.\n",
        "- Visualisasi menunjukkan korelasi positif antara GDP dan kepuasan hidup, dan model dapat melakukan prediksi numerik.\n",
        "\n",
        "---\n",
        "\n",
        "Notebook ini adalah implementasi sederhana dari landscape awal machine learning, yang akan dibahas lebih lanjut di bab-bab berikutnya dengan algoritma dan data yang lebih kompleks.\n"
      ],
      "metadata": {
        "id": "DQLRF7ABxB_d"
      }
    }
  ]
}
