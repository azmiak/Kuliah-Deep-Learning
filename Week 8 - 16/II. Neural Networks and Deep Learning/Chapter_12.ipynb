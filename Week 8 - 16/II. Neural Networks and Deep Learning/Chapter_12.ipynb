{
  "nbformat": 4,
  "nbformat_minor": 0,
  "metadata": {
    "colab": {
      "provenance": [],
      "gpuType": "T4"
    },
    "kernelspec": {
      "name": "python3",
      "display_name": "Python 3"
    },
    "language_info": {
      "name": "python"
    },
    "accelerator": "GPU"
  },
  "cells": [
    {
      "cell_type": "markdown",
      "source": [
        "# Chapter 12: Custom Models and Training with TensorFlow\n",
        "\n",
        "**Tujuan:** Menguasai API TensorFlow rendah-level: tensor, variable, operasi, custom layers/models, loss, metric, gradient tape, dan `@tf.function`.\n",
        "\n",
        "---\n",
        "\n",
        "## 1. Quick Tour of TensorFlow\n",
        "\n",
        "- **Tensors**: mirip `ndarray`, tapi dapat GPU/TPU  \n",
        "- **Operations**: `tf.add`, `tf.matmul`, dll.  \n",
        "- **Variables**: stateful tensors yang dapat di‑update"
      ],
      "metadata": {
        "id": "URrLga32TmJz"
      }
    },
    {
      "cell_type": "code",
      "execution_count": 1,
      "metadata": {
        "colab": {
          "base_uri": "https://localhost:8080/"
        },
        "id": "V7oKxWzdTjBZ",
        "outputId": "40815359-a9bb-4141-8fc8-b36182114b4b"
      },
      "outputs": [
        {
          "output_type": "stream",
          "name": "stdout",
          "text": [
            "Tensor: tf.Tensor(\n",
            "[[1 2]\n",
            " [3 4]], shape=(2, 2), dtype=int32) NumPy: [[1 2]\n",
            " [3 4]]\n",
            "Before: 2.0\n",
            "After: 5.0\n"
          ]
        }
      ],
      "source": [
        "import tensorflow as tf\n",
        "\n",
        "# Tensor vs NumPy\n",
        "t1 = tf.constant([[1,2],[3,4]])\n",
        "n1 = t1.numpy()  # konversi ke NumPy\n",
        "print(\"Tensor:\", t1, \"NumPy:\", n1)\n",
        "\n",
        "# Variable & update\n",
        "v = tf.Variable(2.0)\n",
        "print(\"Before:\", v.numpy())\n",
        "v.assign_add(3.0)\n",
        "print(\"After:\", v.numpy())"
      ]
    },
    {
      "cell_type": "markdown",
      "source": [
        "## 2. Custom Layers & Models"
      ],
      "metadata": {
        "id": "L84mEiG9Ttk1"
      }
    },
    {
      "cell_type": "markdown",
      "source": [
        "### 2.1 Custom Layer"
      ],
      "metadata": {
        "id": "EdN18gFTT1pe"
      }
    },
    {
      "cell_type": "code",
      "source": [
        "from tensorflow.keras import layers\n",
        "\n",
        "class MyDense(layers.Layer):\n",
        "    def __init__(self, units, **kwargs):\n",
        "        super().__init__(**kwargs)\n",
        "        self.units = units\n",
        "\n",
        "    def build(self, input_shape):\n",
        "        # buat variable bobot dan bias\n",
        "        self.w = self.add_weight(\n",
        "            shape=(input_shape[-1], self.units),\n",
        "            initializer=\"random_normal\",\n",
        "            trainable=True, name=\"w\"\n",
        "        )\n",
        "        self.b = self.add_weight(\n",
        "            shape=(self.units,), initializer=\"zeros\",\n",
        "            trainable=True, name=\"b\"\n",
        "        )\n",
        "\n",
        "    def call(self, inputs):\n",
        "        return tf.matmul(inputs, self.w) + self.b\n",
        "\n",
        "# Demo: pakai custom layer\n",
        "layer = MyDense(4)\n",
        "x = tf.random.normal((2,3))\n",
        "print(\"Output MyDense:\", layer(x))"
      ],
      "metadata": {
        "colab": {
          "base_uri": "https://localhost:8080/"
        },
        "id": "NMDd4yCuTtGH",
        "outputId": "7bdc73bd-3a9f-4a63-d9ad-722032ed3ff1"
      },
      "execution_count": 2,
      "outputs": [
        {
          "output_type": "stream",
          "name": "stdout",
          "text": [
            "Output MyDense: tf.Tensor(\n",
            "[[ 0.0474494  -0.04540867 -0.0068359   0.02124174]\n",
            " [ 0.00522392 -0.04822998 -0.00921627  0.01341575]], shape=(2, 4), dtype=float32)\n"
          ]
        }
      ]
    },
    {
      "cell_type": "markdown",
      "source": [
        "### 2.2 Custom Model"
      ],
      "metadata": {
        "id": "ULYa9h_hT8x7"
      }
    },
    {
      "cell_type": "code",
      "source": [
        "from tensorflow.keras import Model, Input\n",
        "\n",
        "class MyMLP(Model):\n",
        "    def __init__(self):\n",
        "        super().__init__()\n",
        "        self.d1 = MyDense(16)\n",
        "        self.act = layers.ReLU()\n",
        "        self.d2 = MyDense(1)\n",
        "\n",
        "    def call(self, inputs):\n",
        "        x = self.d1(inputs)\n",
        "        x = self.act(x)\n",
        "        return self.d2(x)\n",
        "\n",
        "# Instansiasi dan panggil\n",
        "model = MyMLP()\n",
        "y = model(tf.random.normal((5,10)))\n",
        "print(\"MyMLP output shape:\", y.shape)"
      ],
      "metadata": {
        "colab": {
          "base_uri": "https://localhost:8080/"
        },
        "id": "zJlY10MmUDo4",
        "outputId": "7e91d739-3c95-496a-b2e9-abf53f3b0fcc"
      },
      "execution_count": 3,
      "outputs": [
        {
          "output_type": "stream",
          "name": "stdout",
          "text": [
            "MyMLP output shape: (5, 1)\n"
          ]
        }
      ]
    },
    {
      "cell_type": "markdown",
      "source": [
        "## 3. Custom Loss & Metric"
      ],
      "metadata": {
        "id": "_gDQc-a0UFbi"
      }
    },
    {
      "cell_type": "code",
      "source": [
        "# Custom loss: Huber loss\n",
        "def huber_loss(y_true, y_pred, delta=1.0):\n",
        "    err = y_true - y_pred\n",
        "    cond = tf.abs(err) <= delta\n",
        "    squared = 0.5 * tf.square(err)\n",
        "    linear  = delta * (tf.abs(err) - 0.5*delta)\n",
        "    return tf.where(cond, squared, linear)\n",
        "\n",
        "# Custom metric: mean absolute percentage error\n",
        "class MAPE(tf.keras.metrics.Metric):\n",
        "    def __init__(self, name=\"mape\", **kwargs):\n",
        "        super().__init__(name=name, **kwargs)\n",
        "        self.total = self.add_weight(name=\"total\", initializer=\"zeros\")\n",
        "        self.count = self.add_weight(name=\"count\", initializer=\"zeros\")\n",
        "\n",
        "    def update_state(self, y_true, y_pred, sample_weight=None):\n",
        "        mape = tf.reduce_mean(tf.abs((y_true - y_pred) / y_true))\n",
        "        self.total.assign_add(mape)\n",
        "        self.count.assign_add(1.0)\n",
        "\n",
        "    def result(self):\n",
        "        return self.total / self.count\n",
        "\n",
        "    def reset_states(self):\n",
        "        self.total.assign(0.0)\n",
        "        self.count.assign(0.0)"
      ],
      "metadata": {
        "id": "TqZ8HXggUIq2"
      },
      "execution_count": 4,
      "outputs": []
    },
    {
      "cell_type": "markdown",
      "source": [
        "## 4. Custom Training Loop (GradientTape)"
      ],
      "metadata": {
        "id": "fohbFDZ3UMBo"
      }
    },
    {
      "cell_type": "code",
      "source": [
        "# Dataset sintetis: y = 3x + 2 + noise\n",
        "import numpy as np\n",
        "X = np.random.rand(1000,1).astype(\"float32\")\n",
        "y = 3*X + 2 + 0.1*np.random.randn(1000,1).astype(\"float32\")\n",
        "\n",
        "# Buat tf.data.Dataset\n",
        "ds = tf.data.Dataset.from_tensor_slices((X,y)).shuffle(1000).batch(32)\n",
        "\n",
        "# Model sederhana\n",
        "linear = MyDense(1)\n",
        "optimizer = tf.keras.optimizers.SGD(learning_rate=0.1)\n",
        "\n",
        "# Training loop\n",
        "for epoch in range(5):\n",
        "    for x_batch, y_batch in ds:\n",
        "        with tf.GradientTape() as tape:\n",
        "            preds = linear(x_batch)\n",
        "            loss = tf.reduce_mean(tf.square(y_batch - preds))\n",
        "        grads = tape.gradient(loss, linear.trainable_variables)\n",
        "        optimizer.apply_gradients(zip(grads, linear.trainable_variables))\n",
        "    print(f\"Epoch {epoch+1}: loss = {loss.numpy():.4f}\")\n",
        "\n",
        "print(\"Learned parameters:\", linear.w.numpy().flatten(), linear.b.numpy())"
      ],
      "metadata": {
        "colab": {
          "base_uri": "https://localhost:8080/"
        },
        "id": "k6-lQ1jnUOmn",
        "outputId": "221e3dc5-32bc-4db3-d95f-9aa9ff6753e7"
      },
      "execution_count": 5,
      "outputs": [
        {
          "output_type": "stream",
          "name": "stdout",
          "text": [
            "Epoch 1: loss = 0.0551\n",
            "Epoch 2: loss = 0.0631\n",
            "Epoch 3: loss = 0.0177\n",
            "Epoch 4: loss = 0.0139\n",
            "Epoch 5: loss = 0.0078\n",
            "Learned parameters: [2.8116302] [2.0936534]\n"
          ]
        }
      ]
    },
    {
      "cell_type": "markdown",
      "source": [
        "## 5. Accelerate with `@tf.function`"
      ],
      "metadata": {
        "id": "8gBLUX4_UQa3"
      }
    },
    {
      "cell_type": "code",
      "source": [
        "@tf.function\n",
        "def train_step(x, y):\n",
        "    with tf.GradientTape() as tape:\n",
        "        preds = linear(x)\n",
        "        loss = tf.reduce_mean(tf.square(y - preds))\n",
        "    grads = tape.gradient(loss, linear.trainable_variables)\n",
        "    optimizer.apply_gradients(zip(grads, linear.trainable_variables))\n",
        "    return loss\n",
        "\n",
        "# Training loop dengan tf.function\n",
        "for epoch in range(5):\n",
        "    for x_batch, y_batch in ds:\n",
        "        loss = train_step(x_batch, y_batch)\n",
        "    print(f\"[tf.function] Epoch {epoch+1}: loss = {loss.numpy():.4f}\")"
      ],
      "metadata": {
        "colab": {
          "base_uri": "https://localhost:8080/"
        },
        "id": "SyvjA5urUVlM",
        "outputId": "ce948423-c7e4-44cb-c1bd-960024615cc1"
      },
      "execution_count": 6,
      "outputs": [
        {
          "output_type": "stream",
          "name": "stdout",
          "text": [
            "[tf.function] Epoch 1: loss = 0.0209\n",
            "[tf.function] Epoch 2: loss = 0.0185\n",
            "[tf.function] Epoch 3: loss = 0.0131\n",
            "[tf.function] Epoch 4: loss = 0.0076\n",
            "[tf.function] Epoch 5: loss = 0.0111\n"
          ]
        }
      ]
    },
    {
      "cell_type": "markdown",
      "source": [
        "# Ringkasan Chapter 12\n",
        "- Tensor & Variable adalah blok dasar TF.\n",
        "\n",
        "- Custom Layer & Model mudah dibuat dengan subclassing.\n",
        "\n",
        "- Custom Loss/Metric untuk kebutuhan khusus.\n",
        "\n",
        "- GradientTape memberi kontrol penuh training loop.\n",
        "\n",
        "- `@tf.function` mempercepat eksekusi dengan tracing."
      ],
      "metadata": {
        "id": "vV-IktCoUWvn"
      }
    }
  ]
}