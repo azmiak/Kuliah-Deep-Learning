{
  "nbformat": 4,
  "nbformat_minor": 0,
  "metadata": {
    "colab": {
      "provenance": []
    },
    "kernelspec": {
      "name": "python3",
      "display_name": "Python 3"
    },
    "language_info": {
      "name": "python"
    }
  },
  "cells": [
    {
      "cell_type": "markdown",
      "source": [
        "# Chapter 3: Classification\n",
        "\n",
        "**Tujuan:** Memahami klasifikasi (binary & multiclass) dan metrik evaluasinya.\n",
        "\n",
        "---\n",
        "\n",
        "## 1. Apa itu Classification?\n",
        "\n",
        "- **Classification**: memetakan instance ke dalam satu dari beberapa kelas diskrit.  \n",
        "- Contoh: spam vs ham, penyakit positif vs negatif, digit `0–9`.\n",
        "\n",
        "---\n",
        "\n",
        "## 2. Binary Classification\n",
        "\n",
        "- **Binary**: hanya dua kelas (positif/negatif).  \n",
        "- Model umum: Logistic Regression, SVM, k‑NN, Decision Tree, dll.\n",
        "\n",
        "### 2.1 Probabilitas & Threshold  \n",
        "- Model memprediksi _probability_ kelas positif.  \n",
        "- Pilih _threshold_ (misal 0.5) untuk ambil keputusan.\n",
        "\n",
        "### 2.2 Metrik Utama  \n",
        "- **Accuracy** = (TP + TN) / total  \n",
        "- **Confusion Matrix**:  \n",
        "  - TP, TN, FP (false positive), FN (false negative)  \n",
        "- **Precision** = TP / (TP + FP)  \n",
        "- **Recall** = TP / (TP + FN)  \n",
        "- **F1‑score** = 2 x (Precision x Recall) / (Precision + Recall)  \n",
        "- **ROC curve** & **AUC**  \n",
        "\n",
        "---\n",
        "\n",
        "## 3. Multiclass Classification\n",
        "\n",
        "- Banyak kelas (>2), misal digit `0–9`.  \n",
        "- Strategi:  \n",
        "  - **One-vs-Rest (OvR)**  \n",
        "  - **Softmax (multinomial)**  \n",
        "- Metrik: **accuracy**, **confusion matrix**.\n",
        "\n",
        "---"
      ],
      "metadata": {
        "id": "mNN5LIUqGm8f"
      }
    },
    {
      "cell_type": "markdown",
      "source": [
        "## 4. Contoh Binary Classification: Digit 0 vs 1 dari dataset sklearn.digits"
      ],
      "metadata": {
        "id": "fkfAiRsVHdM_"
      }
    },
    {
      "cell_type": "code",
      "execution_count": 1,
      "metadata": {
        "id": "O92lWIo_FQbb"
      },
      "outputs": [],
      "source": [
        "from sklearn.datasets import load_digits\n",
        "from sklearn.model_selection import train_test_split\n",
        "from sklearn.linear_model import LogisticRegression\n",
        "from sklearn.metrics import (\n",
        "    accuracy_score, confusion_matrix, precision_score, recall_score,\n",
        "    f1_score, roc_curve, auc\n",
        ")\n",
        "import matplotlib.pyplot as plt\n",
        "\n",
        "# Load hanya digit 0 & 1\n",
        "digits = load_digits(n_class=2)\n",
        "X, y = digits.data, digits.target\n",
        "X_train, X_test, y_train, y_test = train_test_split(\n",
        "    X, y, test_size=0.3, random_state=42\n",
        ")\n",
        "\n",
        "# Latih logistic regression\n",
        "clf = LogisticRegression(solver='liblinear')\n",
        "clf.fit(X_train, y_train)\n",
        "y_proba = clf.predict_proba(X_test)[:,1]\n",
        "y_pred = (y_proba >= 0.5).astype(int)\n",
        "\n",
        "# Hitung metrik\n",
        "acc    = accuracy_score(y_test, y_pred)\n",
        "prec   = precision_score(y_test, y_pred)\n",
        "recall = recall_score(y_test, y_pred)\n",
        "f1     = f1_score(y_test, y_pred)\n",
        "cm     = confusion_matrix(y_test, y_pred)\n",
        "\n",
        "print(f\"Accuracy : {acc:.3f}\")\n",
        "print(f\"Precision: {prec:.3f}\")\n",
        "print(f\"Recall   : {recall:.3f}\")\n",
        "print(f\"F1‑score : {f1:.3f}\")\n",
        "print(\"Confusion Matrix:\\n\", cm)\n",
        "\n",
        "# ROC Curve\n",
        "fpr, tpr, _ = roc_curve(y_test, y_proba)\n",
        "roc_auc = auc(fpr, tpr)\n",
        "plt.plot(fpr, tpr, label=f\"AUC = {roc_auc:.3f}\")\n",
        "plt.plot([0,1], [0,1], 'k--')\n",
        "plt.xlabel(\"False Positive Rate\")\n",
        "plt.ylabel(\"True Positive Rate\")\n",
        "plt.title(\"ROC Curve (0 vs 1)\")\n",
        "plt.legend()\n",
        "plt.show()"
      ]
    },
    {
      "cell_type": "markdown",
      "source": [
        "**Penjelasan Binary Example**  \n",
        "- Kita ambil digit 0/1 saja untuk binary.  \n",
        "- `predict_proba` mengembalikan probabilitas, lalu threshold 0.5.  \n",
        "- Lihat metrik: akurasi, precision (ketepatan positif), recall (cukupan positif), F1, dan ROC AUC.\n",
        "\n",
        "---"
      ],
      "metadata": {
        "id": "HPrwNWp-Jjf9"
      }
    },
    {
      "cell_type": "markdown",
      "source": [
        "## 5. Contoh Multiclass Classification: Semua digit 0–9"
      ],
      "metadata": {
        "id": "Yv1-kUBBHvC6"
      }
    },
    {
      "cell_type": "code",
      "source": [
        "from sklearn.ensemble import RandomForestClassifier\n",
        "from sklearn.metrics import accuracy_score, confusion_matrix\n",
        "import seaborn as sns\n",
        "\n",
        "# Load semua digit\n",
        "digits = load_digits()\n",
        "X, y = digits.data, digits.target\n",
        "X_train, X_test, y_train, y_test = train_test_split(\n",
        "    X, y, test_size=0.3, random_state=42\n",
        ")\n",
        "\n",
        "# Latih RandomForest\n",
        "rfc = RandomForestClassifier(n_estimators=100, random_state=42)\n",
        "rfc.fit(X_train, y_train)\n",
        "y_pred_mc = rfc.predict(X_test)\n",
        "\n",
        "# Akurasi & Confusion Matrix\n",
        "acc_mc = accuracy_score(y_test, y_pred_mc)\n",
        "cm_mc  = confusion_matrix(y_test, y_pred_mc)\n",
        "\n",
        "print(f\"Multiclass Accuracy: {acc_mc:.3f}\")\n",
        "\n",
        "# Plot confusion matrix\n",
        "plt.figure(figsize=(8,6))\n",
        "sns.heatmap(cm_mc, annot=True, fmt='d', cmap='Blues')\n",
        "plt.xlabel(\"Predicted\")\n",
        "plt.ylabel(\"Actual\")\n",
        "plt.title(\"Confusion Matrix: Multiclass (0–9)\")\n",
        "plt.show()"
      ],
      "metadata": {
        "colab": {
          "base_uri": "https://localhost:8080/"
        },
        "id": "hxKYKfXmHiAd",
        "outputId": "340d90eb-0340-48a6-bdba-551415325500"
      },
      "execution_count": 2,
      "outputs": [
        {
          "output_type": "stream",
          "name": "stdout",
          "text": [
            "Accuracy: 0.9658\n"
          ]
        }
      ]
    },
    {
      "cell_type": "markdown",
      "source": [
        "**Penjelasan Multiclass Example**  \n",
        "- Kita pakai `RandomForestClassifier` untuk klasifikasi 10 kelas.  \n",
        "- Evaluasi utama: **accuracy** dan **confusion matrix**.\n",
        "\n",
        "---\n",
        "\n",
        "## Ringkasan Chapter 3\n",
        "\n",
        "1. **Classification** memetakan data ke kelas diskrit.  \n",
        "2. **Binary** vs **Multiclass**: metrik sedikit berbeda.  \n",
        "3. Penting memeriksa Confusion Matrix, Precision/Recall, ROC/AUC."
      ],
      "metadata": {
        "id": "OTM45ds7J2Tg"
      }
    }
  ]
}