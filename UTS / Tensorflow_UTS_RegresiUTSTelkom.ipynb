{
  "nbformat": 4,
  "nbformat_minor": 0,
  "metadata": {
    "colab": {
      "provenance": [],
      "gpuType": "T4",
      "mount_file_id": "1Gg087hXrLE-v-15wOU0F_hg0yC-SNETX",
      "authorship_tag": "ABX9TyNeSIvg4h53pcWPSE8vRnlL",
      "include_colab_link": true
    },
    "kernelspec": {
      "name": "python3",
      "display_name": "Python 3"
    },
    "language_info": {
      "name": "python"
    },
    "accelerator": "GPU"
  },
  "cells": [
    {
      "cell_type": "markdown",
      "metadata": {
        "id": "view-in-github",
        "colab_type": "text"
      },
      "source": [
        "<a href=\"https://colab.research.google.com/github/azmiak/Kuliah-Deep-Learning/blob/main/UTS%20/%20Tensorflow_UTS_RegresiUTSTelkom.ipynb\" target=\"_parent\"><img src=\"https://colab.research.google.com/assets/colab-badge.svg\" alt=\"Open In Colab\"/></a>"
      ]
    },
    {
      "cell_type": "code",
      "execution_count": 6,
      "metadata": {
        "id": "qcAdCZ2cfVF4"
      },
      "outputs": [],
      "source": [
        "import pandas as pd\n",
        "import numpy as np\n",
        "import matplotlib.pyplot as plt\n",
        "from sklearn.model_selection import train_test_split, GridSearchCV\n",
        "from sklearn.preprocessing import MinMaxScaler, StandardScaler, LabelEncoder, OneHotEncoder\n",
        "from sklearn.decomposition import PCA\n",
        "from sklearn.pipeline import Pipeline\n",
        "from sklearn.compose import ColumnTransformer\n",
        "from sklearn.impute import SimpleImputer\n",
        "from sklearn.feature_selection import SelectKBest, f_regression\n",
        "import tensorflow as tf\n",
        "from tensorflow.keras.models import Sequential\n",
        "from tensorflow.keras.layers import Dense, Dropout, BatchNormalization, LeakyReLU, Activation\n",
        "from tensorflow.keras.callbacks import EarlyStopping, ReduceLROnPlateau\n",
        "from tensorflow.keras.optimizers import Adam\n",
        "from sklearn.metrics import mean_squared_error, r2_score, confusion_matrix, accuracy_score, precision_score, recall_score, f1_score, roc_curve, auc\n",
        "import seaborn as sns"
      ]
    },
    {
      "cell_type": "code",
      "source": [
        "# Load dataset\n",
        "df = pd.read_csv('/content/drive/MyDrive/RegresiUTSTelkom.csv')\n",
        "print(df.head())\n",
        "print(df.info())\n",
        "df.columns = [f'feature_{i}' for i in range(len(df.columns))]\n",
        "df_cleaned = df.dropna()\n",
        "df_cleaned = df_cleaned.drop_duplicates()\n",
        "print(df_cleaned.info())"
      ],
      "metadata": {
        "colab": {
          "base_uri": "https://localhost:8080/"
        },
        "id": "5yjy7aWHfXh8",
        "outputId": "378a87c7-f66a-42c5-d94e-60f28a6c6ef2"
      },
      "execution_count": 7,
      "outputs": [
        {
          "output_type": "stream",
          "name": "stdout",
          "text": [
            "   2001  49.94357  21.47114   73.0775   8.74861  -17.40628  -13.09905  \\\n",
            "0  2001  48.73215  18.42930  70.32679  12.94636  -10.32437  -24.83777   \n",
            "1  2001  50.95714  31.85602  55.81851  13.41693   -6.57898  -18.54940   \n",
            "2  2001  48.24750  -1.89837  36.29772   2.58776    0.97170  -26.21683   \n",
            "3  2001  50.97020  42.20998  67.09964   8.46791  -15.85279  -16.81409   \n",
            "4  2001  50.54767   0.31568  92.35066  22.38696  -25.51870  -19.04928   \n",
            "\n",
            "   -25.01202  -12.23257   7.83089  ...   13.0162  -54.40548  58.99367  \\\n",
            "0    8.76630   -0.92019  18.76548  ...   5.66812  -19.68073  33.04964   \n",
            "1   -3.27872   -2.35035  16.07017  ...   3.03800   26.05866 -50.92779   \n",
            "2    5.05097  -10.34124   3.55005  ...  34.57337 -171.70734 -16.96705   \n",
            "3  -12.48207   -9.37636  12.63699  ...   9.92661  -55.95724  64.92712   \n",
            "4   20.67345   -5.19943   3.63566  ...   6.59753  -50.69577  26.02574   \n",
            "\n",
            "   15.37344   1.11144  -23.08793   68.40795  -1.82223  -27.46348   2.26327  \n",
            "0  42.87836  -9.90378  -32.22788   70.49388  12.04941   58.43453  26.92061  \n",
            "1  10.93792  -0.07568   43.20130 -115.00698  -0.05859   39.67068  -0.66345  \n",
            "2 -46.67617 -12.51516   82.58061  -72.08993   9.90558  199.62971  18.85382  \n",
            "3 -17.72522  -1.49237   -7.50035   51.76631   7.88713   55.66926  28.74903  \n",
            "4  18.94430  -0.33730    6.09352   35.18381   5.00283  -11.02257   0.02263  \n",
            "\n",
            "[5 rows x 91 columns]\n",
            "<class 'pandas.core.frame.DataFrame'>\n",
            "RangeIndex: 515344 entries, 0 to 515343\n",
            "Data columns (total 91 columns):\n",
            " #   Column      Non-Null Count   Dtype  \n",
            "---  ------      --------------   -----  \n",
            " 0   2001        515344 non-null  int64  \n",
            " 1   49.94357    515344 non-null  float64\n",
            " 2   21.47114    515344 non-null  float64\n",
            " 3   73.0775     515344 non-null  float64\n",
            " 4   8.74861     515344 non-null  float64\n",
            " 5   -17.40628   515344 non-null  float64\n",
            " 6   -13.09905   515344 non-null  float64\n",
            " 7   -25.01202   515344 non-null  float64\n",
            " 8   -12.23257   515344 non-null  float64\n",
            " 9   7.83089     515344 non-null  float64\n",
            " 10  -2.46783    515344 non-null  float64\n",
            " 11  3.32136     515344 non-null  float64\n",
            " 12  -2.31521    515344 non-null  float64\n",
            " 13  10.20556    515344 non-null  float64\n",
            " 14  611.10913   515344 non-null  float64\n",
            " 15  951.0896    515344 non-null  float64\n",
            " 16  698.11428   515344 non-null  float64\n",
            " 17  408.98485   515344 non-null  float64\n",
            " 18  383.70912   515344 non-null  float64\n",
            " 19  326.51512   515344 non-null  float64\n",
            " 20  238.11327   515344 non-null  float64\n",
            " 21  251.42414   515344 non-null  float64\n",
            " 22  187.17351   515344 non-null  float64\n",
            " 23  100.42652   515344 non-null  float64\n",
            " 24  179.19498   515344 non-null  float64\n",
            " 25  -8.41558    515344 non-null  float64\n",
            " 26  -317.87038  515344 non-null  float64\n",
            " 27  95.86266    515344 non-null  float64\n",
            " 28  48.10259    515344 non-null  float64\n",
            " 29  -95.66303   515344 non-null  float64\n",
            " 30  -18.06215   515344 non-null  float64\n",
            " 31  1.96984     515344 non-null  float64\n",
            " 32  34.42438    515344 non-null  float64\n",
            " 33  11.7267     515344 non-null  float64\n",
            " 34  1.3679      515344 non-null  float64\n",
            " 35  7.79444     515344 non-null  float64\n",
            " 36  -0.36994    515344 non-null  float64\n",
            " 37  -133.67852  515344 non-null  float64\n",
            " 38  -83.26165   515344 non-null  float64\n",
            " 39  -37.29765   515344 non-null  float64\n",
            " 40  73.04667    515344 non-null  float64\n",
            " 41  -37.36684   515344 non-null  float64\n",
            " 42  -3.13853    515344 non-null  float64\n",
            " 43  -24.21531   515344 non-null  float64\n",
            " 44  -13.23066   515344 non-null  float64\n",
            " 45  15.93809    515344 non-null  float64\n",
            " 46  -18.60478   515344 non-null  float64\n",
            " 47  82.15479    515344 non-null  float64\n",
            " 48  240.5798    515344 non-null  float64\n",
            " 49  -10.29407   515344 non-null  float64\n",
            " 50  31.58431    515344 non-null  float64\n",
            " 51  -25.38187   515344 non-null  float64\n",
            " 52  -3.90772    515344 non-null  float64\n",
            " 53  13.29258    515344 non-null  float64\n",
            " 54  41.5506     515344 non-null  float64\n",
            " 55  -7.26272    515344 non-null  float64\n",
            " 56  -21.00863   515344 non-null  float64\n",
            " 57  105.50848   515344 non-null  float64\n",
            " 58  64.29856    515344 non-null  float64\n",
            " 59  26.08481    515344 non-null  float64\n",
            " 60  -44.5911    515344 non-null  float64\n",
            " 61  -8.30657    515344 non-null  float64\n",
            " 62  7.93706     515344 non-null  float64\n",
            " 63  -10.7366    515344 non-null  float64\n",
            " 64  -95.44766   515344 non-null  float64\n",
            " 65  -82.03307   515344 non-null  float64\n",
            " 66  -35.59194   515344 non-null  float64\n",
            " 67  4.69525     515344 non-null  float64\n",
            " 68  70.95626    515344 non-null  float64\n",
            " 69  28.09139    515344 non-null  float64\n",
            " 70  6.02015     515344 non-null  float64\n",
            " 71  -37.13767   515344 non-null  float64\n",
            " 72  -41.1245    515344 non-null  float64\n",
            " 73  -8.40816    515344 non-null  float64\n",
            " 74  7.19877     515344 non-null  float64\n",
            " 75  -8.60176    515344 non-null  float64\n",
            " 76  -5.90857    515344 non-null  float64\n",
            " 77  -12.32437   515344 non-null  float64\n",
            " 78  14.68734    515344 non-null  float64\n",
            " 79  -54.32125   515344 non-null  float64\n",
            " 80  40.14786    515344 non-null  float64\n",
            " 81  13.0162     515344 non-null  float64\n",
            " 82  -54.40548   515344 non-null  float64\n",
            " 83  58.99367    515344 non-null  float64\n",
            " 84  15.37344    515344 non-null  float64\n",
            " 85  1.11144     515344 non-null  float64\n",
            " 86  -23.08793   515344 non-null  float64\n",
            " 87  68.40795    515344 non-null  float64\n",
            " 88  -1.82223    515344 non-null  float64\n",
            " 89  -27.46348   515344 non-null  float64\n",
            " 90  2.26327     515344 non-null  float64\n",
            "dtypes: float64(90), int64(1)\n",
            "memory usage: 357.8 MB\n",
            "None\n",
            "<class 'pandas.core.frame.DataFrame'>\n",
            "Index: 515130 entries, 0 to 515343\n",
            "Data columns (total 91 columns):\n",
            " #   Column      Non-Null Count   Dtype  \n",
            "---  ------      --------------   -----  \n",
            " 0   feature_0   515130 non-null  int64  \n",
            " 1   feature_1   515130 non-null  float64\n",
            " 2   feature_2   515130 non-null  float64\n",
            " 3   feature_3   515130 non-null  float64\n",
            " 4   feature_4   515130 non-null  float64\n",
            " 5   feature_5   515130 non-null  float64\n",
            " 6   feature_6   515130 non-null  float64\n",
            " 7   feature_7   515130 non-null  float64\n",
            " 8   feature_8   515130 non-null  float64\n",
            " 9   feature_9   515130 non-null  float64\n",
            " 10  feature_10  515130 non-null  float64\n",
            " 11  feature_11  515130 non-null  float64\n",
            " 12  feature_12  515130 non-null  float64\n",
            " 13  feature_13  515130 non-null  float64\n",
            " 14  feature_14  515130 non-null  float64\n",
            " 15  feature_15  515130 non-null  float64\n",
            " 16  feature_16  515130 non-null  float64\n",
            " 17  feature_17  515130 non-null  float64\n",
            " 18  feature_18  515130 non-null  float64\n",
            " 19  feature_19  515130 non-null  float64\n",
            " 20  feature_20  515130 non-null  float64\n",
            " 21  feature_21  515130 non-null  float64\n",
            " 22  feature_22  515130 non-null  float64\n",
            " 23  feature_23  515130 non-null  float64\n",
            " 24  feature_24  515130 non-null  float64\n",
            " 25  feature_25  515130 non-null  float64\n",
            " 26  feature_26  515130 non-null  float64\n",
            " 27  feature_27  515130 non-null  float64\n",
            " 28  feature_28  515130 non-null  float64\n",
            " 29  feature_29  515130 non-null  float64\n",
            " 30  feature_30  515130 non-null  float64\n",
            " 31  feature_31  515130 non-null  float64\n",
            " 32  feature_32  515130 non-null  float64\n",
            " 33  feature_33  515130 non-null  float64\n",
            " 34  feature_34  515130 non-null  float64\n",
            " 35  feature_35  515130 non-null  float64\n",
            " 36  feature_36  515130 non-null  float64\n",
            " 37  feature_37  515130 non-null  float64\n",
            " 38  feature_38  515130 non-null  float64\n",
            " 39  feature_39  515130 non-null  float64\n",
            " 40  feature_40  515130 non-null  float64\n",
            " 41  feature_41  515130 non-null  float64\n",
            " 42  feature_42  515130 non-null  float64\n",
            " 43  feature_43  515130 non-null  float64\n",
            " 44  feature_44  515130 non-null  float64\n",
            " 45  feature_45  515130 non-null  float64\n",
            " 46  feature_46  515130 non-null  float64\n",
            " 47  feature_47  515130 non-null  float64\n",
            " 48  feature_48  515130 non-null  float64\n",
            " 49  feature_49  515130 non-null  float64\n",
            " 50  feature_50  515130 non-null  float64\n",
            " 51  feature_51  515130 non-null  float64\n",
            " 52  feature_52  515130 non-null  float64\n",
            " 53  feature_53  515130 non-null  float64\n",
            " 54  feature_54  515130 non-null  float64\n",
            " 55  feature_55  515130 non-null  float64\n",
            " 56  feature_56  515130 non-null  float64\n",
            " 57  feature_57  515130 non-null  float64\n",
            " 58  feature_58  515130 non-null  float64\n",
            " 59  feature_59  515130 non-null  float64\n",
            " 60  feature_60  515130 non-null  float64\n",
            " 61  feature_61  515130 non-null  float64\n",
            " 62  feature_62  515130 non-null  float64\n",
            " 63  feature_63  515130 non-null  float64\n",
            " 64  feature_64  515130 non-null  float64\n",
            " 65  feature_65  515130 non-null  float64\n",
            " 66  feature_66  515130 non-null  float64\n",
            " 67  feature_67  515130 non-null  float64\n",
            " 68  feature_68  515130 non-null  float64\n",
            " 69  feature_69  515130 non-null  float64\n",
            " 70  feature_70  515130 non-null  float64\n",
            " 71  feature_71  515130 non-null  float64\n",
            " 72  feature_72  515130 non-null  float64\n",
            " 73  feature_73  515130 non-null  float64\n",
            " 74  feature_74  515130 non-null  float64\n",
            " 75  feature_75  515130 non-null  float64\n",
            " 76  feature_76  515130 non-null  float64\n",
            " 77  feature_77  515130 non-null  float64\n",
            " 78  feature_78  515130 non-null  float64\n",
            " 79  feature_79  515130 non-null  float64\n",
            " 80  feature_80  515130 non-null  float64\n",
            " 81  feature_81  515130 non-null  float64\n",
            " 82  feature_82  515130 non-null  float64\n",
            " 83  feature_83  515130 non-null  float64\n",
            " 84  feature_84  515130 non-null  float64\n",
            " 85  feature_85  515130 non-null  float64\n",
            " 86  feature_86  515130 non-null  float64\n",
            " 87  feature_87  515130 non-null  float64\n",
            " 88  feature_88  515130 non-null  float64\n",
            " 89  feature_89  515130 non-null  float64\n",
            " 90  feature_90  515130 non-null  float64\n",
            "dtypes: float64(90), int64(1)\n",
            "memory usage: 361.6 MB\n",
            "None\n"
          ]
        }
      ]
    },
    {
      "cell_type": "code",
      "source": [
        "X = df_cleaned.drop(columns=['feature_90'])\n",
        "y = df_cleaned['feature_90']\n",
        "\n",
        "# Train-test split\n",
        "X_train, X_test, y_train, y_test = train_test_split(X, y, test_size=0.2, random_state=42)\n",
        "\n",
        "# Scaling\n",
        "scaler = StandardScaler()\n",
        "X_train_scaled = scaler.fit_transform(X_train)\n",
        "X_test_scaled = scaler.transform(X_test)"
      ],
      "metadata": {
        "id": "-6T2rzFZfeBK"
      },
      "execution_count": 8,
      "outputs": []
    },
    {
      "cell_type": "markdown",
      "source": [
        "#MLP Model"
      ],
      "metadata": {
        "id": "RvySyzSJoxLI"
      }
    },
    {
      "cell_type": "code",
      "source": [
        "tf_X = df_cleaned.drop(columns=['feature_90'])\n",
        "tf_y = df_cleaned['feature_90']\n",
        "\n",
        "# Split data train-test\n",
        "tf_X_train, tf_X_test, tf_y_train, tf_y_test = train_test_split(tf_X, tf_y, test_size=0.2, random_state=42)\n",
        "\n",
        "# Standarization\n",
        "tf_scaler = StandardScaler()\n",
        "tf_X_train_scaled = tf_scaler.fit_transform(tf_X_train)\n",
        "tf_X_test_scaled = tf_scaler.transform(tf_X_test)\n",
        "\n",
        "# MLP Model\n",
        "tf_model = Sequential([\n",
        "    Dense(128, activation='relu', input_shape=(tf_X_train_scaled.shape[1],)),\n",
        "    Dropout(0.2),\n",
        "    Dense(64, activation='relu'),\n",
        "    Dropout(0.2),\n",
        "    Dense(32, activation='relu'),\n",
        "    Dense(1)\n",
        "])\n",
        "\n",
        "# Compilation\n",
        "tf_model.compile(optimizer=Adam(learning_rate=0.001),\n",
        "                 loss='mse',\n",
        "                 metrics=['mae'])\n",
        "\n",
        "# Training\n",
        "tf_history = tf_model.fit(tf_X_train_scaled, tf_y_train,\n",
        "                          epochs=10,\n",
        "                          batch_size=64,\n",
        "                          validation_split=0.1,\n",
        "                          verbose=1)"
      ],
      "metadata": {
        "colab": {
          "base_uri": "https://localhost:8080/"
        },
        "id": "uovkDXqjf38U",
        "outputId": "282c35a5-6476-4a44-fde0-2022eb1f524d"
      },
      "execution_count": 12,
      "outputs": [
        {
          "output_type": "stream",
          "name": "stderr",
          "text": [
            "/usr/local/lib/python3.11/dist-packages/keras/src/layers/core/dense.py:87: UserWarning: Do not pass an `input_shape`/`input_dim` argument to a layer. When using Sequential models, prefer using an `Input(shape)` object as the first layer in the model instead.\n",
            "  super().__init__(activity_regularizer=activity_regularizer, **kwargs)\n"
          ]
        },
        {
          "output_type": "stream",
          "name": "stdout",
          "text": [
            "Epoch 1/10\n",
            "\u001b[1m5796/5796\u001b[0m \u001b[32m━━━━━━━━━━━━━━━━━━━━\u001b[0m\u001b[37m\u001b[0m \u001b[1m20s\u001b[0m 3ms/step - loss: 231.7807 - mae: 9.9356 - val_loss: 106.7092 - val_mae: 7.1415\n",
            "Epoch 2/10\n",
            "\u001b[1m5796/5796\u001b[0m \u001b[32m━━━━━━━━━━━━━━━━━━━━\u001b[0m\u001b[37m\u001b[0m \u001b[1m17s\u001b[0m 3ms/step - loss: 122.1960 - mae: 7.5890 - val_loss: 93.8824 - val_mae: 6.7149\n",
            "Epoch 3/10\n",
            "\u001b[1m5796/5796\u001b[0m \u001b[32m━━━━━━━━━━━━━━━━━━━━\u001b[0m\u001b[37m\u001b[0m \u001b[1m15s\u001b[0m 3ms/step - loss: 111.7329 - mae: 7.2990 - val_loss: 90.3235 - val_mae: 6.6112\n",
            "Epoch 4/10\n",
            "\u001b[1m5796/5796\u001b[0m \u001b[32m━━━━━━━━━━━━━━━━━━━━\u001b[0m\u001b[37m\u001b[0m \u001b[1m18s\u001b[0m 3ms/step - loss: 104.6202 - mae: 7.0769 - val_loss: 90.5010 - val_mae: 6.5791\n",
            "Epoch 5/10\n",
            "\u001b[1m5796/5796\u001b[0m \u001b[32m━━━━━━━━━━━━━━━━━━━━\u001b[0m\u001b[37m\u001b[0m \u001b[1m18s\u001b[0m 3ms/step - loss: 100.4271 - mae: 6.9699 - val_loss: 93.5687 - val_mae: 6.7032\n",
            "Epoch 6/10\n",
            "\u001b[1m5796/5796\u001b[0m \u001b[32m━━━━━━━━━━━━━━━━━━━━\u001b[0m\u001b[37m\u001b[0m \u001b[1m16s\u001b[0m 3ms/step - loss: 97.9598 - mae: 6.8795 - val_loss: 85.0229 - val_mae: 6.4239\n",
            "Epoch 7/10\n",
            "\u001b[1m5796/5796\u001b[0m \u001b[32m━━━━━━━━━━━━━━━━━━━━\u001b[0m\u001b[37m\u001b[0m \u001b[1m20s\u001b[0m 3ms/step - loss: 97.7595 - mae: 6.8491 - val_loss: 89.7232 - val_mae: 6.5846\n",
            "Epoch 8/10\n",
            "\u001b[1m5796/5796\u001b[0m \u001b[32m━━━━━━━━━━━━━━━━━━━━\u001b[0m\u001b[37m\u001b[0m \u001b[1m20s\u001b[0m 3ms/step - loss: 94.9055 - mae: 6.7752 - val_loss: 86.7740 - val_mae: 6.5019\n",
            "Epoch 9/10\n",
            "\u001b[1m5796/5796\u001b[0m \u001b[32m━━━━━━━━━━━━━━━━━━━━\u001b[0m\u001b[37m\u001b[0m \u001b[1m16s\u001b[0m 3ms/step - loss: 92.8156 - mae: 6.7145 - val_loss: 93.4898 - val_mae: 6.7334\n",
            "Epoch 10/10\n",
            "\u001b[1m5796/5796\u001b[0m \u001b[32m━━━━━━━━━━━━━━━━━━━━\u001b[0m\u001b[37m\u001b[0m \u001b[1m21s\u001b[0m 3ms/step - loss: 92.6333 - mae: 6.7048 - val_loss: 96.6680 - val_mae: 6.7859\n"
          ]
        }
      ]
    },
    {
      "cell_type": "markdown",
      "source": [
        "#Regresi"
      ],
      "metadata": {
        "id": "S59BPBClor6o"
      }
    },
    {
      "cell_type": "code",
      "source": [
        "df = pd.read_csv('/content/drive/MyDrive/RegresiUTSTelkom.csv')\n",
        "\n",
        "# Split feature and target\n",
        "X = df.iloc[:, 1:]\n",
        "y = df.iloc[:, 0]"
      ],
      "metadata": {
        "id": "Pv2ZTI3xg1iJ"
      },
      "execution_count": 13,
      "outputs": []
    },
    {
      "cell_type": "code",
      "source": [
        "# Split data\n",
        "X_train, X_test, y_train, y_test = train_test_split(X, y, test_size=0.2, random_state=42)\n",
        "\n",
        "# Scaling\n",
        "scaler = StandardScaler()\n",
        "X_train_scaled = scaler.fit_transform(X_train)\n",
        "X_test_scaled = scaler.transform(X_test)\n",
        "\n",
        "# Build model\n",
        "model = tf.keras.Sequential([\n",
        "    tf.keras.layers.Dense(128, activation='relu', input_shape=(X_train.shape[1],)),\n",
        "    tf.keras.layers.Dense(64, activation='relu'),\n",
        "    tf.keras.layers.Dense(1)\n",
        "])\n",
        "\n",
        "model.compile(optimizer='adam', loss='mse')\n",
        "\n",
        "# Train\n",
        "history = model.fit(X_train_scaled, y_train, epochs=10, validation_split=0.2)\n",
        "\n",
        "# Predict\n",
        "y_pred = model.predict(X_test_scaled).flatten()"
      ],
      "metadata": {
        "colab": {
          "base_uri": "https://localhost:8080/"
        },
        "id": "8-driVf_iL_5",
        "outputId": "c1464cee-dc60-4184-ecbc-4169e8ac3159"
      },
      "execution_count": 14,
      "outputs": [
        {
          "output_type": "stream",
          "name": "stderr",
          "text": [
            "/usr/local/lib/python3.11/dist-packages/keras/src/layers/core/dense.py:87: UserWarning: Do not pass an `input_shape`/`input_dim` argument to a layer. When using Sequential models, prefer using an `Input(shape)` object as the first layer in the model instead.\n",
            "  super().__init__(activity_regularizer=activity_regularizer, **kwargs)\n"
          ]
        },
        {
          "output_type": "stream",
          "name": "stdout",
          "text": [
            "Epoch 1/10\n",
            "\u001b[1m10307/10307\u001b[0m \u001b[32m━━━━━━━━━━━━━━━━━━━━\u001b[0m\u001b[37m\u001b[0m \u001b[1m30s\u001b[0m 3ms/step - loss: 450295.8438 - val_loss: 279.4684\n",
            "Epoch 2/10\n",
            "\u001b[1m10307/10307\u001b[0m \u001b[32m━━━━━━━━━━━━━━━━━━━━\u001b[0m\u001b[37m\u001b[0m \u001b[1m29s\u001b[0m 3ms/step - loss: 401.5437 - val_loss: 186.6207\n",
            "Epoch 3/10\n",
            "\u001b[1m10307/10307\u001b[0m \u001b[32m━━━━━━━━━━━━━━━━━━━━\u001b[0m\u001b[37m\u001b[0m \u001b[1m32s\u001b[0m 3ms/step - loss: 248.4239 - val_loss: 155.3326\n",
            "Epoch 4/10\n",
            "\u001b[1m10307/10307\u001b[0m \u001b[32m━━━━━━━━━━━━━━━━━━━━\u001b[0m\u001b[37m\u001b[0m \u001b[1m40s\u001b[0m 3ms/step - loss: 204.4845 - val_loss: 233.9987\n",
            "Epoch 5/10\n",
            "\u001b[1m10307/10307\u001b[0m \u001b[32m━━━━━━━━━━━━━━━━━━━━\u001b[0m\u001b[37m\u001b[0m \u001b[1m37s\u001b[0m 3ms/step - loss: 236.3935 - val_loss: 174.1293\n",
            "Epoch 6/10\n",
            "\u001b[1m10307/10307\u001b[0m \u001b[32m━━━━━━━━━━━━━━━━━━━━\u001b[0m\u001b[37m\u001b[0m \u001b[1m28s\u001b[0m 3ms/step - loss: 280.8942 - val_loss: 224.9892\n",
            "Epoch 7/10\n",
            "\u001b[1m10307/10307\u001b[0m \u001b[32m━━━━━━━━━━━━━━━━━━━━\u001b[0m\u001b[37m\u001b[0m \u001b[1m57s\u001b[0m 4ms/step - loss: 251.9337 - val_loss: 254.7234\n",
            "Epoch 8/10\n",
            "\u001b[1m10307/10307\u001b[0m \u001b[32m━━━━━━━━━━━━━━━━━━━━\u001b[0m\u001b[37m\u001b[0m \u001b[1m30s\u001b[0m 3ms/step - loss: 184.2829 - val_loss: 109.7731\n",
            "Epoch 9/10\n",
            "\u001b[1m10307/10307\u001b[0m \u001b[32m━━━━━━━━━━━━━━━━━━━━\u001b[0m\u001b[37m\u001b[0m \u001b[1m46s\u001b[0m 3ms/step - loss: 176.4936 - val_loss: 131.9806\n",
            "Epoch 10/10\n",
            "\u001b[1m10307/10307\u001b[0m \u001b[32m━━━━━━━━━━━━━━━━━━━━\u001b[0m\u001b[37m\u001b[0m \u001b[1m27s\u001b[0m 3ms/step - loss: 174.4921 - val_loss: 147.5947\n",
            "\u001b[1m3221/3221\u001b[0m \u001b[32m━━━━━━━━━━━━━━━━━━━━\u001b[0m\u001b[37m\u001b[0m \u001b[1m5s\u001b[0m 2ms/step\n"
          ]
        }
      ]
    },
    {
      "cell_type": "code",
      "source": [
        "# Eval\n",
        "mse = mean_squared_error(y_test, y_pred)\n",
        "rmse = np.sqrt(mse)\n",
        "r2 = r2_score(y_test, y_pred)\n",
        "\n",
        "print(f'MSE: {mse}')\n",
        "print(f'RMSE: {rmse}')\n",
        "print(f'R2: {r2}')\n",
        "\n",
        "# Plot\n",
        "plt.figure(figsize=(8, 6))\n",
        "plt.scatter(y_test, y_pred, alpha=0.3, c='red')\n",
        "plt.xlabel('Actual Values')\n",
        "plt.ylabel('Predicted Values')\n",
        "plt.title('Actual vs Predicted')\n",
        "plt.plot([y.min(), y.max()], [y.min(), y.max()], 'r--', c='blue')\n",
        "plt.show()"
      ],
      "metadata": {
        "colab": {
          "base_uri": "https://localhost:8080/",
          "height": 651
        },
        "id": "psH83lhSikb-",
        "outputId": "02b06314-88eb-46eb-c4c6-f691ac83ee01"
      },
      "execution_count": 16,
      "outputs": [
        {
          "output_type": "stream",
          "name": "stdout",
          "text": [
            "MSE: 149.365478515625\n",
            "RMSE: 12.221517030042751\n",
            "R2: -0.25847768783569336\n"
          ]
        },
        {
          "output_type": "stream",
          "name": "stderr",
          "text": [
            "<ipython-input-16-fab9a173b856>:16: UserWarning: color is redundantly defined by the 'color' keyword argument and the fmt string \"r--\" (-> color='r'). The keyword argument will take precedence.\n",
            "  plt.plot([y.min(), y.max()], [y.min(), y.max()], 'r--', c='blue')\n"
          ]
        },
        {
          "output_type": "display_data",
          "data": {
            "text/plain": [
              "<Figure size 800x600 with 1 Axes>"
            ],
            "image/png": "[encoded data removed]"
          },
          "metadata": {}
        }
      ]
    },
    {
      "cell_type": "code",
      "source": [
        "median_value = y.median()\n",
        "y_class = (y > median_value).astype(int)"
      ],
      "metadata": {
        "id": "mCnH8EJFm_hc"
      },
      "execution_count": 17,
      "outputs": []
    },
    {
      "cell_type": "code",
      "source": [
        "from sklearn.metrics import accuracy_score, precision_score, recall_score, f1_score, roc_auc_score, confusion_matrix\n",
        "\n",
        "y = df.iloc[:, 0]\n",
        "X = df.iloc[:, 1:]\n",
        "median_value = y.median()\n",
        "y_class = (y > median_value).astype(int)\n",
        "\n",
        "# Train-test split\n",
        "X_train, X_test, y_train, y_test = train_test_split(X, y_class, test_size=0.2, random_state=42)\n",
        "\n",
        "# Scaling\n",
        "scaler = StandardScaler()\n",
        "X_train_scaled = scaler.fit_transform(X_train)\n",
        "X_test_scaled = scaler.transform(X_test)\n",
        "\n",
        "# Build model\n",
        "model = tf.keras.Sequential([\n",
        "    tf.keras.layers.Dense(128, activation='relu', input_shape=(X_train.shape[1],)),\n",
        "    tf.keras.layers.Dense(64, activation='relu'),\n",
        "    tf.keras.layers.Dense(1, activation='sigmoid')\n",
        "])\n",
        "\n",
        "model.compile(optimizer='adam', loss='binary_crossentropy', metrics=['accuracy'])\n",
        "\n",
        "# Training\n",
        "model.fit(X_train_scaled, y_train, epochs=10, validation_split=0.2)\n",
        "\n",
        "# Predict\n",
        "y_pred_prob = model.predict(X_test_scaled).flatten()\n",
        "y_pred_class = (y_pred_prob > 0.5).astype(int)"
      ],
      "metadata": {
        "colab": {
          "base_uri": "https://localhost:8080/"
        },
        "id": "dgWqVYM9nCcp",
        "outputId": "e1a12cd1-89a9-428e-d3d3-80a6b4328531"
      },
      "execution_count": 19,
      "outputs": [
        {
          "output_type": "stream",
          "name": "stderr",
          "text": [
            "/usr/local/lib/python3.11/dist-packages/keras/src/layers/core/dense.py:87: UserWarning: Do not pass an `input_shape`/`input_dim` argument to a layer. When using Sequential models, prefer using an `Input(shape)` object as the first layer in the model instead.\n",
            "  super().__init__(activity_regularizer=activity_regularizer, **kwargs)\n"
          ]
        },
        {
          "output_type": "stream",
          "name": "stdout",
          "text": [
            "Epoch 1/10\n",
            "\u001b[1m10307/10307\u001b[0m \u001b[32m━━━━━━━━━━━━━━━━━━━━\u001b[0m\u001b[37m\u001b[0m \u001b[1m31s\u001b[0m 3ms/step - accuracy: 0.7047 - loss: 0.5716 - val_accuracy: 0.7301 - val_loss: 0.5401\n",
            "Epoch 2/10\n",
            "\u001b[1m10307/10307\u001b[0m \u001b[32m━━━━━━━━━━━━━━━━━━━━\u001b[0m\u001b[37m\u001b[0m \u001b[1m29s\u001b[0m 3ms/step - accuracy: 0.7329 - loss: 0.5340 - val_accuracy: 0.7339 - val_loss: 0.5358\n",
            "Epoch 3/10\n",
            "\u001b[1m10307/10307\u001b[0m \u001b[32m━━━━━━━━━━━━━━━━━━━━\u001b[0m\u001b[37m\u001b[0m \u001b[1m34s\u001b[0m 3ms/step - accuracy: 0.7391 - loss: 0.5257 - val_accuracy: 0.7367 - val_loss: 0.5290\n",
            "Epoch 4/10\n",
            "\u001b[1m10307/10307\u001b[0m \u001b[32m━━━━━━━━━━━━━━━━━━━━\u001b[0m\u001b[37m\u001b[0m \u001b[1m41s\u001b[0m 3ms/step - accuracy: 0.7427 - loss: 0.5198 - val_accuracy: 0.7380 - val_loss: 0.5273\n",
            "Epoch 5/10\n",
            "\u001b[1m10307/10307\u001b[0m \u001b[32m━━━━━━━━━━━━━━━━━━━━\u001b[0m\u001b[37m\u001b[0m \u001b[1m31s\u001b[0m 3ms/step - accuracy: 0.7456 - loss: 0.5142 - val_accuracy: 0.7376 - val_loss: 0.5272\n",
            "Epoch 6/10\n",
            "\u001b[1m10307/10307\u001b[0m \u001b[32m━━━━━━━━━━━━━━━━━━━━\u001b[0m\u001b[37m\u001b[0m \u001b[1m45s\u001b[0m 3ms/step - accuracy: 0.7480 - loss: 0.5108 - val_accuracy: 0.7381 - val_loss: 0.5283\n",
            "Epoch 7/10\n",
            "\u001b[1m10307/10307\u001b[0m \u001b[32m━━━━━━━━━━━━━━━━━━━━\u001b[0m\u001b[37m\u001b[0m \u001b[1m29s\u001b[0m 3ms/step - accuracy: 0.7495 - loss: 0.5076 - val_accuracy: 0.7373 - val_loss: 0.5291\n",
            "Epoch 8/10\n",
            "\u001b[1m10307/10307\u001b[0m \u001b[32m━━━━━━━━━━━━━━━━━━━━\u001b[0m\u001b[37m\u001b[0m \u001b[1m42s\u001b[0m 3ms/step - accuracy: 0.7513 - loss: 0.5052 - val_accuracy: 0.7386 - val_loss: 0.5284\n",
            "Epoch 9/10\n",
            "\u001b[1m10307/10307\u001b[0m \u001b[32m━━━━━━━━━━━━━━━━━━━━\u001b[0m\u001b[37m\u001b[0m \u001b[1m46s\u001b[0m 3ms/step - accuracy: 0.7534 - loss: 0.5027 - val_accuracy: 0.7376 - val_loss: 0.5293\n",
            "Epoch 10/10\n",
            "\u001b[1m10307/10307\u001b[0m \u001b[32m━━━━━━━━━━━━━━━━━━━━\u001b[0m\u001b[37m\u001b[0m \u001b[1m29s\u001b[0m 3ms/step - accuracy: 0.7554 - loss: 0.4976 - val_accuracy: 0.7377 - val_loss: 0.5300\n",
            "\u001b[1m3221/3221\u001b[0m \u001b[32m━━━━━━━━━━━━━━━━━━━━\u001b[0m\u001b[37m\u001b[0m \u001b[1m5s\u001b[0m 2ms/step\n"
          ]
        }
      ]
    },
    {
      "cell_type": "code",
      "source": [
        "# Evaluation\n",
        "acc = accuracy_score(y_test, y_pred_class)\n",
        "prec = precision_score(y_test, y_pred_class)\n",
        "rec = recall_score(y_test, y_pred_class)\n",
        "f1 = f1_score(y_test, y_pred_class)\n",
        "auc = roc_auc_score(y_test, y_pred_prob)\n",
        "\n",
        "print(f'Accuracy: {acc:.4f}')\n",
        "print(f'Precision: {prec:.4f}')\n",
        "print(f'Recall: {rec:.4f}')\n",
        "print(f'F1-Score: {f1:.4f}')\n",
        "print(f'AUC-ROC: {auc:.4f}')\n",
        "\n",
        "# Confusion Matrix\n",
        "cm = confusion_matrix(y_test, y_pred_class)\n",
        "\n",
        "plt.figure(figsize=(6, 4))\n",
        "sns.heatmap(cm, annot=True, fmt='d', cmap='OrRd')\n",
        "plt.xlabel('Predicted')\n",
        "plt.ylabel('Actual')\n",
        "plt.title('Confusion Matrix')\n",
        "plt.show()"
      ],
      "metadata": {
        "colab": {
          "base_uri": "https://localhost:8080/",
          "height": 497
        },
        "id": "Zhv5pqAPpDV6",
        "outputId": "d9c58965-f726-4361-ae5f-926c86dc0a1a"
      },
      "execution_count": 21,
      "outputs": [
        {
          "output_type": "stream",
          "name": "stdout",
          "text": [
            "Accuracy: 0.7385\n",
            "Precision: 0.7220\n",
            "Recall: 0.7328\n",
            "F1-Score: 0.7274\n",
            "AUC-ROC: 0.8148\n"
          ]
        },
        {
          "output_type": "display_data",
          "data": {
            "text/plain": [
              "<Figure size 600x400 with 2 Axes>"
            ],
            "image/png": "[encoded data removed]"
          },
          "metadata": {}
        }
      ]
    },
    {
      "cell_type": "markdown",
      "source": [
        "Evaluasi Metrik\n",
        "\n",
        "Accuracy: 0.7385 → 73.85% data diprediksi benar.\n",
        "\n",
        "Precision: 0.7220 → Dari semua prediksi 1, 72.20% benar.\n",
        "\n",
        "Recall: 0.7328 → Dari semua kelas 1 yang sebenarnya, 73.28% terdeteksi.\n",
        "\n",
        "F1-Score: 0.7274 → Harmonic mean dari precision dan recall.\n",
        "\n",
        "AUC-ROC: 0.8148 → Baik; model mampu membedakan positif dan negatif.\n",
        "\n",
        "Metrik yang paling menonjol di sini adalah AUC-ROC sebesar 0.8142, yang menunjukkan kemampuan model dalam membedakan antara kelas positif dan negatif. AUC-ROCunggul karena mengukur area di bawah kurva ROC yang memplot true positive rate vs false positive rate pada berbagai threshold. Meskipun kita mengubah threshold prediksi, model masih mempertahankan performa yang baik. AUC-ROC menjadi metrik terbaik karena memberikan gambaran kualitas klasifikasi model."
      ],
      "metadata": {
        "id": "stUzgvxvrSPW"
      }
    }
  ]
}